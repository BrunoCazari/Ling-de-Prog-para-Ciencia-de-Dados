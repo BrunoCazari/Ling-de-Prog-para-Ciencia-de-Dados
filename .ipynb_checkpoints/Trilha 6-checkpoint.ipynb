{
 "cells": [
  {
   "cell_type": "markdown",
   "metadata": {},
   "source": [
    "# Trilha 6"
   ]
  },
  {
   "cell_type": "markdown",
   "metadata": {},
   "source": [
    "Para iniciar a trilha 6 deste componente curricular, iremos explorar alguns pacotes de manipulação de dados.\n",
    "\n",
    "O R tem muitas funções integradas, que são acessadas através do pacote base que já vem por padrão no motor da linguagem. Contudo, também podemos usar funções que são armazenadas em pacotes criados por outras pessoas.\n",
    "\n",
    "Para instalar pacotes você utiliza a função *install.packages()*. O processo de instalação faz com que o seu motor da linguagem vá até o repositório do [*Comprehensive R Archive Network* - **CRAN**](https://cran.r-project.org/) e faz o download para o local que está executando. Somente após fazer o download é possível utilizar as funções internas.\n",
    "\n",
    "Para usar as funções de um pacote, você precisa primeiro carregá-lo usando a função *library()*. Isso precisa ser feito todas as vezes que iniciar o seu projeto, porém uma vez carregado durante a execução, não precisa carregar novamente para usar as funções. Há uma convenção de boa prática que diz para fazer isso na parte superior de seu *jupyter notebook* para que seja fácil ver de quais pacotes seu código R utiliza."
   ]
  },
  {
   "cell_type": "markdown",
   "metadata": {},
   "source": [
    "## Atualizando o motor do R"
   ]
  },
  {
   "cell_type": "markdown",
   "metadata": {},
   "source": [
    "Para garantir que estamos utilizando a ultima versão do R no nosso computador, podemos forçar a atualização da versão do motor de processamento através de pacotes. \n",
    "\n",
    "O primeiro passo para atualizar o ambiente é instalar o pacote **installR** e depois carregá-lo. Para então ser feita a chamada da função *updateR* e seguir com o guia de instalação. "
   ]
  },
  {
   "cell_type": "code",
   "execution_count": null,
   "metadata": {},
   "outputs": [],
   "source": [
    "install.packages(\"installr\")\n",
    "library(installr)\n",
    "\n",
    "updateR()\n",
    "\n",
    "version"
   ]
  },
  {
   "cell_type": "markdown",
   "metadata": {},
   "source": [
    "Em seguida é feita a intalação e atualização do pacote **DevTools**. Este pacote ajuda a construir pacotes mais fácil, fornecendo funções R que simplificam as tarefas comuns."
   ]
  },
  {
   "cell_type": "code",
   "execution_count": null,
   "metadata": {},
   "outputs": [],
   "source": [
    "install.packages('devtools')\n",
    "library(devtools)"
   ]
  },
  {
   "cell_type": "markdown",
   "metadata": {},
   "source": [
    "## Instalando o pacote Tidyverse"
   ]
  },
  {
   "cell_type": "markdown",
   "metadata": {},
   "source": [
    "Depois da garantia de atualização do ambiente, vamos explorar algumas outras funções. Neste caso vamos usar um pacote bastante utilizado no mercado de trabalho para fazer manipulação de dados, chamado **tidyverse**. Este pacote permite carregar, modificar e plotar gráficos com os dados. Veja abaixo o código que faz a instalação do pacote e depois faz o carregamento das suas funções para esta execução do ambiente."
   ]
  },
  {
   "cell_type": "code",
   "execution_count": null,
   "metadata": {},
   "outputs": [],
   "source": [
    "install.packages('tidyverse', dependencies=TRUE)\n",
    "library(tidyverse)"
   ]
  },
  {
   "cell_type": "markdown",
   "metadata": {},
   "source": [
    "Depois de instalado e carregado o pacote **tidyverse**, vamos testá-lo com o carregamento de um conjunto de dados com informações de desempenho das companhias aéreas. Estes *datasets* são coletadas do site [ASA - American Statistical ASsociation](https://community.amstat.org/jointscsg-section/dataexpo/dataexpo2009), em arquivo Zip que possui 1.6Gb (quando descompactado chega a 12 Gb de dados).\n",
    "\n",
    "> Acompanhe a seção **Trilha 6 - Download dataset** para reproduzir como este conjunto de dados foi criado\n",
    "\n",
    "Foi feito um recorte para ficar mais fácil a manipulação e podem ser baixados do repositório aqui no componente curricular. Quando você baixar todos os *jupyter notebook* para reproduzir os experimentos, estes *datasets* já estarão disponíveis.\n",
    "\n",
    "A função *read_csv* do pacote *tidyverse* permite que um arquivo **csv** seja carregado em uma variável, já no formato de *Data Frame*. Siga o código abaixo para carregar os dados."
   ]
  },
  {
   "cell_type": "code",
   "execution_count": null,
   "metadata": {},
   "outputs": [],
   "source": [
    "voos2008 <- read_csv(\"voos2008.csv\")"
   ]
  },
  {
   "cell_type": "markdown",
   "metadata": {},
   "source": [
    "Para observar as primeiras linhas do conjunto de dados, é executada a função *head* que irá retornar as primeiras 6 linhas do *data frame*. Veja como fica esta chamada."
   ]
  },
  {
   "cell_type": "code",
   "execution_count": null,
   "metadata": {},
   "outputs": [],
   "source": [
    "head(voos2008)"
   ]
  },
  {
   "cell_type": "markdown",
   "metadata": {},
   "source": [
    "Agora que já estamos com o conjunto de dados carregado em memória, te convido a me acompanhar para estudarmos as possibilidades do pacote *tidyverse*."
   ]
  },
  {
   "cell_type": "markdown",
   "metadata": {},
   "source": [
    "## Desafios com o Dataset "
   ]
  },
  {
   "cell_type": "markdown",
   "metadata": {},
   "source": [
    "Depois de carregar o conjunto de dados, pode-se explorar alguns problemas que foram propostos no desafio da ASA para este *dataset*. Os desafios são direcionados à resolver estas questões:\n",
    "  1) Qual é a melhor hora do dia / dia da semana / época do ano para voar para minimizar atrasos?\n",
    "  \n",
    "  2) Os aviões mais antigos sofrem mais atrasos?\n",
    "  \n",
    "  3) Como o número de pessoas voando entre locais diferentes muda ao longo do tempo?\n",
    "  \n",
    "  4) Quão bem o tempo prevê atrasos de avião?\n",
    "  \n",
    "  5) Você pode detectar falhas em cascata à medida que atrasos em um aeroporto criam atrasos em outros? Existem links críticos no sistema?\n",
    "\n",
    "Vamos explorar e trabalhar em cada um destes desafios com o objetivo de fixar o conhecimento de manipulação de dados com linguagem R."
   ]
  }
 ],
 "metadata": {
  "kernelspec": {
   "display_name": "R",
   "language": "R",
   "name": "ir"
  },
  "language_info": {
   "codemirror_mode": "r",
   "file_extension": ".r",
   "mimetype": "text/x-r-source",
   "name": "R",
   "pygments_lexer": "r",
   "version": "4.1.0"
  }
 },
 "nbformat": 4,
 "nbformat_minor": 4
}
