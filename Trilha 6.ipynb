{
 "cells": [
  {
   "cell_type": "markdown",
   "metadata": {},
   "source": [
    "# Trilha 6"
   ]
  },
  {
   "cell_type": "markdown",
   "metadata": {},
   "source": [
    "Para iniciar a trilha 6 deste componente curricular, iremos explorar alguns pacotes de manipulação de dados.\n",
    "\n",
    "O R tem muitas funções integradas, que são acessadas através do pacote base que já vem por padrão no motor da linguagem. Contudo, também podemos usar funções que são armazenadas em pacotes criados por outras pessoas.\n",
    "\n",
    "Para instalar pacotes você utiliza a função *install.packages()*. O processo de instalação faz com que o seu motor da linguagem vá até o repositório do [*Comprehensive R Archive Network* - **CRAN**](https://cran.r-project.org/) e faz o download para o local que está executando. Somente após fazer o download é possível utilizar as funções internas.\n",
    "\n",
    "Para usar as funções de um pacote, você precisa primeiro carregá-lo usando a função *library()*. Isso precisa ser feito todas as vezes que iniciar o seu projeto, porém uma vez carregado durante a execução, não precisa carregar novamente para usar as funções. Há uma convenção de boa prática que diz para fazer isso na parte superior de seu *jupyter notebook* para que seja fácil ver de quais pacotes seu código R utiliza."
   ]
  },
  {
   "cell_type": "markdown",
   "metadata": {},
   "source": [
    "## Atualizando o motor do R"
   ]
  },
  {
   "cell_type": "markdown",
   "metadata": {},
   "source": [
    "Para garantir que estamos utilizando a ultima versão do R no nosso computador, podemos forçar a atualização da versão do motor de processamento através de pacotes. \n",
    "\n",
    "O primeiro passo para atualizar o ambiente é instalar o pacote **installR** e depois carregá-lo. Para então ser feita a chamada da função *updateR* e seguir com o guia de instalação. "
   ]
  },
  {
   "cell_type": "code",
   "execution_count": 1,
   "metadata": {},
   "outputs": [],
   "source": [
    "#install.packages(\"installr\")\n",
    "#library(installr)\n",
    "\n",
    "#updateR()\n",
    "\n",
    "#version"
   ]
  },
  {
   "cell_type": "markdown",
   "metadata": {},
   "source": [
    "Em seguida é feita a intalação e atualização do pacote **DevTools**. Este pacote ajuda a construir pacotes mais fácil, fornecendo funções R que simplificam as tarefas comuns."
   ]
  },
  {
   "cell_type": "code",
   "execution_count": 2,
   "metadata": {},
   "outputs": [],
   "source": [
    "#install.packages('devtools')\n",
    "#library(devtools)"
   ]
  },
  {
   "cell_type": "markdown",
   "metadata": {},
   "source": [
    "## Instalando o pacote Tidyverse"
   ]
  },
  {
   "cell_type": "markdown",
   "metadata": {},
   "source": [
    "Depois da garantia de atualização do ambiente, vamos explorar algumas outras funções. Neste caso vamos usar um pacote bastante utilizado no mercado de trabalho para fazer manipulação de dados, chamado **tidyverse**. Este pacote permite carregar, modificar e plotar gráficos com os dados. Veja abaixo o código que faz a instalação do pacote e depois faz o carregamento das suas funções para esta execução do ambiente."
   ]
  },
  {
   "cell_type": "code",
   "execution_count": 3,
   "metadata": {},
   "outputs": [
    {
     "name": "stderr",
     "output_type": "stream",
     "text": [
      "-- \u001b[1mAttaching packages\u001b[22m ------------------------------------------------------------------------------- tidyverse 1.3.1 --\n",
      "\n",
      "\u001b[32mv\u001b[39m \u001b[34mggplot2\u001b[39m 3.3.5     \u001b[32mv\u001b[39m \u001b[34mpurrr  \u001b[39m 0.3.4\n",
      "\u001b[32mv\u001b[39m \u001b[34mtibble \u001b[39m 3.1.3     \u001b[32mv\u001b[39m \u001b[34mdplyr  \u001b[39m 1.0.7\n",
      "\u001b[32mv\u001b[39m \u001b[34mtidyr  \u001b[39m 1.1.3     \u001b[32mv\u001b[39m \u001b[34mstringr\u001b[39m 1.4.0\n",
      "\u001b[32mv\u001b[39m \u001b[34mreadr  \u001b[39m 2.0.0     \u001b[32mv\u001b[39m \u001b[34mforcats\u001b[39m 0.5.1\n",
      "\n",
      "-- \u001b[1mConflicts\u001b[22m ---------------------------------------------------------------------------------- tidyverse_conflicts() --\n",
      "\u001b[31mx\u001b[39m \u001b[34mdplyr\u001b[39m::\u001b[32mfilter()\u001b[39m masks \u001b[34mstats\u001b[39m::filter()\n",
      "\u001b[31mx\u001b[39m \u001b[34mdplyr\u001b[39m::\u001b[32mlag()\u001b[39m    masks \u001b[34mstats\u001b[39m::lag()\n",
      "\n"
     ]
    }
   ],
   "source": [
    "#install.packages('tidyverse', dependencies=TRUE)\n",
    "library(tidyverse)"
   ]
  },
  {
   "cell_type": "markdown",
   "metadata": {},
   "source": [
    "Depois de instalado e carregado o pacote **tidyverse**, vamos testá-lo com o carregamento de um conjunto de dados com informações de desempenho das companhias aéreas. Estes *datasets* são coletadas do site [ASA - American Statistical ASsociation](https://community.amstat.org/jointscsg-section/dataexpo/dataexpo2009), em arquivo Zip que possui 1.6Gb (quando descompactado chega a 12 Gb de dados).\n",
    "\n",
    "> Acompanhe a seção **Trilha 6 - Download dataset** para reproduzir como este conjunto de dados foi criado\n",
    "\n",
    "Foi feito um recorte para ficar mais fácil a manipulação e podem ser baixados do repositório aqui no componente curricular. Quando você baixar todos os *jupyter notebook* para reproduzir os experimentos, estes *datasets* já estarão disponíveis.\n",
    "\n",
    "A função *read_csv* do pacote *tidyverse* permite que um arquivo **csv** seja carregado em uma variável, já no formato de *Data Frame*. Siga o código abaixo para carregar os dados."
   ]
  },
  {
   "cell_type": "code",
   "execution_count": 4,
   "metadata": {},
   "outputs": [
    {
     "name": "stderr",
     "output_type": "stream",
     "text": [
      "\u001b[1m\u001b[1mRows: \u001b[1m\u001b[22m\u001b[34m\u001b[34m100000\u001b[34m\u001b[39m \u001b[1m\u001b[1mColumns: \u001b[1m\u001b[22m\u001b[34m\u001b[34m29\u001b[34m\u001b[39m\n",
      "\n",
      "\u001b[36m--\u001b[39m \u001b[1m\u001b[1mColumn specification\u001b[1m\u001b[22m \u001b[36m------------------------------------------------------------------------------------------------\u001b[39m\n",
      "\u001b[1mDelimiter:\u001b[22m \",\"\n",
      "\u001b[31mchr\u001b[39m  (5): UniqueCarrier, TailNum, Origin, Dest, CancellationCode\n",
      "\u001b[32mdbl\u001b[39m (24): Year, Month, DayofMonth, DayOfWeek, DepTime, CRSDepTime, ArrTime, ...\n",
      "\n",
      "\n",
      "\u001b[36mi\u001b[39m Use \u001b[30m\u001b[47m\u001b[30m\u001b[47m`spec()`\u001b[47m\u001b[30m\u001b[49m\u001b[39m to retrieve the full column specification for this data.\n",
      "\u001b[36mi\u001b[39m Specify the column types or set \u001b[30m\u001b[47m\u001b[30m\u001b[47m`show_col_types = FALSE`\u001b[47m\u001b[30m\u001b[49m\u001b[39m to quiet this message.\n",
      "\n"
     ]
    }
   ],
   "source": [
    "voos2008 <- read_csv(\"voos2008.csv\")"
   ]
  },
  {
   "cell_type": "markdown",
   "metadata": {},
   "source": [
    "Para observar as primeiras linhas do conjunto de dados, é executada a função *head* que irá retornar as primeiras 6 linhas do *data frame*. Veja como fica esta chamada."
   ]
  },
  {
   "cell_type": "code",
   "execution_count": 5,
   "metadata": {},
   "outputs": [
    {
     "data": {
      "text/html": [
       "<table class=\"dataframe\">\n",
       "<caption>A tibble: 6 × 29</caption>\n",
       "<thead>\n",
       "\t<tr><th scope=col>Year</th><th scope=col>Month</th><th scope=col>DayofMonth</th><th scope=col>DayOfWeek</th><th scope=col>DepTime</th><th scope=col>CRSDepTime</th><th scope=col>ArrTime</th><th scope=col>CRSArrTime</th><th scope=col>UniqueCarrier</th><th scope=col>FlightNum</th><th scope=col>...</th><th scope=col>TaxiIn</th><th scope=col>TaxiOut</th><th scope=col>Cancelled</th><th scope=col>CancellationCode</th><th scope=col>Diverted</th><th scope=col>CarrierDelay</th><th scope=col>WeatherDelay</th><th scope=col>NASDelay</th><th scope=col>SecurityDelay</th><th scope=col>LateAircraftDelay</th></tr>\n",
       "\t<tr><th scope=col>&lt;dbl&gt;</th><th scope=col>&lt;dbl&gt;</th><th scope=col>&lt;dbl&gt;</th><th scope=col>&lt;dbl&gt;</th><th scope=col>&lt;dbl&gt;</th><th scope=col>&lt;dbl&gt;</th><th scope=col>&lt;dbl&gt;</th><th scope=col>&lt;dbl&gt;</th><th scope=col>&lt;chr&gt;</th><th scope=col>&lt;dbl&gt;</th><th scope=col>...</th><th scope=col>&lt;dbl&gt;</th><th scope=col>&lt;dbl&gt;</th><th scope=col>&lt;dbl&gt;</th><th scope=col>&lt;chr&gt;</th><th scope=col>&lt;dbl&gt;</th><th scope=col>&lt;dbl&gt;</th><th scope=col>&lt;dbl&gt;</th><th scope=col>&lt;dbl&gt;</th><th scope=col>&lt;dbl&gt;</th><th scope=col>&lt;dbl&gt;</th></tr>\n",
       "</thead>\n",
       "<tbody>\n",
       "\t<tr><td>2008</td><td>9</td><td>21</td><td>7</td><td>1909</td><td>1900</td><td>2040</td><td>2036</td><td>DL</td><td> 156</td><td>...</td><td>10</td><td>17</td><td>0</td><td>NA</td><td>0</td><td>NA</td><td>NA</td><td>NA</td><td>NA</td><td>NA</td></tr>\n",
       "\t<tr><td>2008</td><td>9</td><td>18</td><td>4</td><td>1440</td><td>1445</td><td>1630</td><td>1636</td><td>US</td><td>1199</td><td>...</td><td> 5</td><td>24</td><td>0</td><td>NA</td><td>0</td><td>NA</td><td>NA</td><td>NA</td><td>NA</td><td>NA</td></tr>\n",
       "\t<tr><td>2008</td><td>8</td><td>11</td><td>1</td><td>2033</td><td>2035</td><td>2335</td><td>2340</td><td>AA</td><td> 864</td><td>...</td><td> 7</td><td>12</td><td>0</td><td>NA</td><td>0</td><td>NA</td><td>NA</td><td>NA</td><td>NA</td><td>NA</td></tr>\n",
       "\t<tr><td>2008</td><td>5</td><td> 3</td><td>6</td><td>1936</td><td>1930</td><td>2012</td><td>2007</td><td>HA</td><td> 556</td><td>...</td><td> 5</td><td>10</td><td>0</td><td>NA</td><td>0</td><td>NA</td><td>NA</td><td>NA</td><td>NA</td><td>NA</td></tr>\n",
       "\t<tr><td>2008</td><td>5</td><td>13</td><td>2</td><td>2332</td><td>2340</td><td> 654</td><td> 719</td><td>US</td><td>1404</td><td>...</td><td> 4</td><td>14</td><td>0</td><td>NA</td><td>0</td><td>NA</td><td>NA</td><td>NA</td><td>NA</td><td>NA</td></tr>\n",
       "\t<tr><td>2008</td><td>1</td><td>13</td><td>7</td><td> 907</td><td> 915</td><td>1008</td><td>1020</td><td>MQ</td><td>3661</td><td>...</td><td> 2</td><td>13</td><td>0</td><td>NA</td><td>0</td><td>NA</td><td>NA</td><td>NA</td><td>NA</td><td>NA</td></tr>\n",
       "</tbody>\n",
       "</table>\n"
      ],
      "text/latex": [
       "A tibble: 6 × 29\n",
       "\\begin{tabular}{lllllllllllllllllllll}\n",
       " Year & Month & DayofMonth & DayOfWeek & DepTime & CRSDepTime & ArrTime & CRSArrTime & UniqueCarrier & FlightNum & ... & TaxiIn & TaxiOut & Cancelled & CancellationCode & Diverted & CarrierDelay & WeatherDelay & NASDelay & SecurityDelay & LateAircraftDelay\\\\\n",
       " <dbl> & <dbl> & <dbl> & <dbl> & <dbl> & <dbl> & <dbl> & <dbl> & <chr> & <dbl> & ... & <dbl> & <dbl> & <dbl> & <chr> & <dbl> & <dbl> & <dbl> & <dbl> & <dbl> & <dbl>\\\\\n",
       "\\hline\n",
       "\t 2008 & 9 & 21 & 7 & 1909 & 1900 & 2040 & 2036 & DL &  156 & ... & 10 & 17 & 0 & NA & 0 & NA & NA & NA & NA & NA\\\\\n",
       "\t 2008 & 9 & 18 & 4 & 1440 & 1445 & 1630 & 1636 & US & 1199 & ... &  5 & 24 & 0 & NA & 0 & NA & NA & NA & NA & NA\\\\\n",
       "\t 2008 & 8 & 11 & 1 & 2033 & 2035 & 2335 & 2340 & AA &  864 & ... &  7 & 12 & 0 & NA & 0 & NA & NA & NA & NA & NA\\\\\n",
       "\t 2008 & 5 &  3 & 6 & 1936 & 1930 & 2012 & 2007 & HA &  556 & ... &  5 & 10 & 0 & NA & 0 & NA & NA & NA & NA & NA\\\\\n",
       "\t 2008 & 5 & 13 & 2 & 2332 & 2340 &  654 &  719 & US & 1404 & ... &  4 & 14 & 0 & NA & 0 & NA & NA & NA & NA & NA\\\\\n",
       "\t 2008 & 1 & 13 & 7 &  907 &  915 & 1008 & 1020 & MQ & 3661 & ... &  2 & 13 & 0 & NA & 0 & NA & NA & NA & NA & NA\\\\\n",
       "\\end{tabular}\n"
      ],
      "text/markdown": [
       "\n",
       "A tibble: 6 × 29\n",
       "\n",
       "| Year &lt;dbl&gt; | Month &lt;dbl&gt; | DayofMonth &lt;dbl&gt; | DayOfWeek &lt;dbl&gt; | DepTime &lt;dbl&gt; | CRSDepTime &lt;dbl&gt; | ArrTime &lt;dbl&gt; | CRSArrTime &lt;dbl&gt; | UniqueCarrier &lt;chr&gt; | FlightNum &lt;dbl&gt; | ... ... | TaxiIn &lt;dbl&gt; | TaxiOut &lt;dbl&gt; | Cancelled &lt;dbl&gt; | CancellationCode &lt;chr&gt; | Diverted &lt;dbl&gt; | CarrierDelay &lt;dbl&gt; | WeatherDelay &lt;dbl&gt; | NASDelay &lt;dbl&gt; | SecurityDelay &lt;dbl&gt; | LateAircraftDelay &lt;dbl&gt; |\n",
       "|---|---|---|---|---|---|---|---|---|---|---|---|---|---|---|---|---|---|---|---|---|\n",
       "| 2008 | 9 | 21 | 7 | 1909 | 1900 | 2040 | 2036 | DL |  156 | ... | 10 | 17 | 0 | NA | 0 | NA | NA | NA | NA | NA |\n",
       "| 2008 | 9 | 18 | 4 | 1440 | 1445 | 1630 | 1636 | US | 1199 | ... |  5 | 24 | 0 | NA | 0 | NA | NA | NA | NA | NA |\n",
       "| 2008 | 8 | 11 | 1 | 2033 | 2035 | 2335 | 2340 | AA |  864 | ... |  7 | 12 | 0 | NA | 0 | NA | NA | NA | NA | NA |\n",
       "| 2008 | 5 |  3 | 6 | 1936 | 1930 | 2012 | 2007 | HA |  556 | ... |  5 | 10 | 0 | NA | 0 | NA | NA | NA | NA | NA |\n",
       "| 2008 | 5 | 13 | 2 | 2332 | 2340 |  654 |  719 | US | 1404 | ... |  4 | 14 | 0 | NA | 0 | NA | NA | NA | NA | NA |\n",
       "| 2008 | 1 | 13 | 7 |  907 |  915 | 1008 | 1020 | MQ | 3661 | ... |  2 | 13 | 0 | NA | 0 | NA | NA | NA | NA | NA |\n",
       "\n"
      ],
      "text/plain": [
       "  Year Month DayofMonth DayOfWeek DepTime CRSDepTime ArrTime CRSArrTime\n",
       "1 2008 9     21         7         1909    1900       2040    2036      \n",
       "2 2008 9     18         4         1440    1445       1630    1636      \n",
       "3 2008 8     11         1         2033    2035       2335    2340      \n",
       "4 2008 5      3         6         1936    1930       2012    2007      \n",
       "5 2008 5     13         2         2332    2340        654     719      \n",
       "6 2008 1     13         7          907     915       1008    1020      \n",
       "  UniqueCarrier FlightNum ... TaxiIn TaxiOut Cancelled CancellationCode\n",
       "1 DL             156      ... 10     17      0         NA              \n",
       "2 US            1199      ...  5     24      0         NA              \n",
       "3 AA             864      ...  7     12      0         NA              \n",
       "4 HA             556      ...  5     10      0         NA              \n",
       "5 US            1404      ...  4     14      0         NA              \n",
       "6 MQ            3661      ...  2     13      0         NA              \n",
       "  Diverted CarrierDelay WeatherDelay NASDelay SecurityDelay LateAircraftDelay\n",
       "1 0        NA           NA           NA       NA            NA               \n",
       "2 0        NA           NA           NA       NA            NA               \n",
       "3 0        NA           NA           NA       NA            NA               \n",
       "4 0        NA           NA           NA       NA            NA               \n",
       "5 0        NA           NA           NA       NA            NA               \n",
       "6 0        NA           NA           NA       NA            NA               "
      ]
     },
     "metadata": {},
     "output_type": "display_data"
    }
   ],
   "source": [
    "head(voos2008)"
   ]
  },
  {
   "cell_type": "markdown",
   "metadata": {},
   "source": [
    "Agora que já estamos com o conjunto de dados carregado em memória, te convido a me acompanhar para estudarmos as possibilidades do pacote *tidyverse*."
   ]
  },
  {
   "cell_type": "markdown",
   "metadata": {},
   "source": [
    "## Desafios com o Dataset "
   ]
  },
  {
   "cell_type": "markdown",
   "metadata": {},
   "source": [
    "Depois de carregar o conjunto de dados, pode-se explorar alguns problemas que foram propostos no desafio da ASA para este *dataset*. Os desafios são direcionados à resolver estas questões:\n",
    "  1) Qual é a melhor hora do dia / dia da semana / época do ano para voar para minimizar atrasos?\n",
    "  \n",
    "  2) Os aviões mais antigos sofrem mais atrasos?\n",
    "  \n",
    "  3) Como o número de pessoas voando entre locais diferentes muda ao longo do tempo?\n",
    "  \n",
    "  4) Quão bem o tempo prevê atrasos de avião?\n",
    "  \n",
    "  5) Você pode detectar falhas em cascata à medida que atrasos em um aeroporto criam atrasos em outros? Existem links críticos no sistema?\n",
    "\n",
    "Vamos explorar e trabalhar em cada um destes desafios com o objetivo de fixar o conhecimento de manipulação de dados com linguagem R.\n",
    "\n",
    "Uma coisa muito importante quando se trabalha com dados, é conhecê-lo. Aqui há um **mini-dicionário de dados** sobre esse *dataset*.\n",
    "\n",
    "\n",
    "Variável **=** Descrição  **|** \n",
    "**Year** **=** 1987-2008  **|**\n",
    "**Month** **=** 1-12  **|**\n",
    "**DayofMonth** **=** 1-31  **|**\n",
    "**DayOfWeek** **=** 1 (segunda-feira) - 7 (domingo)  **|**\n",
    "**DepTime** **=** hora de partida real (local, hhmm)  **|**\n",
    "**CRSDepTime** **=** hora de partida programada (local, hhmm)  **|**\n",
    "**ArrTime** **=** hora de chegada real (local, hhmm)  **|**\n",
    "**CRSArrTime** **=** \thora de chegada programada (local, hhmm)  **|**\n",
    "**UniqueCarrier** **=** código de operadora único  **|**\n",
    "**FlightNum** **=** Número do vôo  **|**\n",
    "**TailNum** **=** número da cauda do avião  **|**\n",
    "**ActualElapsedTime** **=** em minutos  **|**\n",
    "**CRSElapsedTime** **=** em minutos  **|**\n",
    "**AirTime** **=** em minutos  **|**\n",
    "**ArrDelay** **=** atraso de chegada, em minutos  **|**\n",
    "**DepDelay** **=** atraso de partida, em minutos  **|**\n",
    "**Origin** **=** código de aeroporto IATA de origem  **|**\n",
    "**Dest** **=** código de aeroporto IATA de destino  **|**\n",
    "**Distance** **=** em milhas  **|**\n",
    "**TaxiIn** **=** tempo taxiando no pouso, em minutos **|**\n",
    "**TaxiOut** **=** tempo taxiando na decolagem, em minutos  **|**\n",
    "**Cancelled** **=** o vôo foi cancelado?  **|**\n",
    "**CancellationCode** **=** motivo do cancelamento (A = operadora, B = clima, C = NAS, D = segurança)  **|**\n",
    "**Diverted** **=** 1 = sim, 0 = não **|**\n",
    "**CarrierDelay** **=** em minutos  **|**\n",
    "**WeatherDelay** **=** em minutos  **|**\n",
    "**NASDelay** **=** em minutos  **|**\n",
    "**SecurityDelay** **=** em minutos  **|**\n",
    "**LateAircraftDelay** **=** em minutos "
   ]
  },
  {
   "cell_type": "markdown",
   "metadata": {},
   "source": [
    "###  Minimizar atrasos"
   ]
  },
  {
   "cell_type": "markdown",
   "metadata": {},
   "source": [
    "Olhando para o dataset, não são todas as variáveis (ou colunas) que precisamos trazer para resolver este problema. O problema é bastante claro **Qual é a melhor hora do dia / dia da semana / época do ano para voar para minimizar atrasos?**, então podemos olhar o dicionário de dados deste *dataset* para escolher algumas variáveis que fazem sentido para ajudar a resolver o problema. No bloco de código abaixo, são apresentados duas funções do pacote *tidyverse*. A primeira função é o *pipe*, que é representado pelo símbolo *%>%* e a segunda é a *select*.\n",
    "\n",
    "O *pipe* permite que funções sejam executadas de forma ordenada, ou seja, uma função será executada somente após a outra. Repare no símbolo do *pipe* está entre a variável com os dados e a função *select*. Isso faz com que o interpretador do R execute a instrução que está do lado direito em cima do objeto que está do lado esquerdo do *pipe*. Ou seja, executa o *select* em cima da base de dados.\n",
    "\n",
    "Já o *select* é a função responsável por selecionar determinadas colunas em um *dataset*, fazendo com que somente aquelas colunas definidas sejam mantidas no retorno da função. Observe que o código abaixo faz a seleção de apenas 7 variáveis dentre as 29 existentes no *dataset* e armazena em um novo objeto chamado **novoDataset**."
   ]
  },
  {
   "cell_type": "code",
   "execution_count": 6,
   "metadata": {},
   "outputs": [],
   "source": [
    "novoDataset <- voos2008 %>% select(Year,Month,DayofMonth,DepTime,DepDelay,ArrDelay,Cancelled) "
   ]
  },
  {
   "cell_type": "markdown",
   "metadata": {},
   "source": [
    "Por enquanto todas as 100.000 observações (linhas) são mantidas, mas somente as 7 variáveis que são relevantes para resolver o problema foram retornadas."
   ]
  },
  {
   "cell_type": "code",
   "execution_count": 7,
   "metadata": {},
   "outputs": [
    {
     "name": "stdout",
     "output_type": "stream",
     "text": [
      "tibble [100,000 x 7] (S3: tbl_df/tbl/data.frame)\n",
      " $ Year      : num [1:100000] 2008 2008 2008 2008 2008 ...\n",
      " $ Month     : num [1:100000] 9 9 8 5 5 1 9 10 5 5 ...\n",
      " $ DayofMonth: num [1:100000] 21 18 11 3 13 13 17 8 17 4 ...\n",
      " $ DepTime   : num [1:100000] 1909 1440 2033 1936 2332 ...\n",
      " $ DepDelay  : num [1:100000] 9 -5 -2 6 -8 -8 6 -7 4 -12 ...\n",
      " $ ArrDelay  : num [1:100000] 4 -6 -5 5 -25 -12 6 -13 5 -42 ...\n",
      " $ Cancelled : num [1:100000] 0 0 0 0 0 0 0 0 0 0 ...\n"
     ]
    },
    {
     "data": {
      "text/html": [
       "<table class=\"dataframe\">\n",
       "<caption>A tibble: 6 × 7</caption>\n",
       "<thead>\n",
       "\t<tr><th scope=col>Year</th><th scope=col>Month</th><th scope=col>DayofMonth</th><th scope=col>DepTime</th><th scope=col>DepDelay</th><th scope=col>ArrDelay</th><th scope=col>Cancelled</th></tr>\n",
       "\t<tr><th scope=col>&lt;dbl&gt;</th><th scope=col>&lt;dbl&gt;</th><th scope=col>&lt;dbl&gt;</th><th scope=col>&lt;dbl&gt;</th><th scope=col>&lt;dbl&gt;</th><th scope=col>&lt;dbl&gt;</th><th scope=col>&lt;dbl&gt;</th></tr>\n",
       "</thead>\n",
       "<tbody>\n",
       "\t<tr><td>2008</td><td>9</td><td>21</td><td>1909</td><td> 9</td><td>  4</td><td>0</td></tr>\n",
       "\t<tr><td>2008</td><td>9</td><td>18</td><td>1440</td><td>-5</td><td> -6</td><td>0</td></tr>\n",
       "\t<tr><td>2008</td><td>8</td><td>11</td><td>2033</td><td>-2</td><td> -5</td><td>0</td></tr>\n",
       "\t<tr><td>2008</td><td>5</td><td> 3</td><td>1936</td><td> 6</td><td>  5</td><td>0</td></tr>\n",
       "\t<tr><td>2008</td><td>5</td><td>13</td><td>2332</td><td>-8</td><td>-25</td><td>0</td></tr>\n",
       "\t<tr><td>2008</td><td>1</td><td>13</td><td> 907</td><td>-8</td><td>-12</td><td>0</td></tr>\n",
       "</tbody>\n",
       "</table>\n"
      ],
      "text/latex": [
       "A tibble: 6 × 7\n",
       "\\begin{tabular}{lllllll}\n",
       " Year & Month & DayofMonth & DepTime & DepDelay & ArrDelay & Cancelled\\\\\n",
       " <dbl> & <dbl> & <dbl> & <dbl> & <dbl> & <dbl> & <dbl>\\\\\n",
       "\\hline\n",
       "\t 2008 & 9 & 21 & 1909 &  9 &   4 & 0\\\\\n",
       "\t 2008 & 9 & 18 & 1440 & -5 &  -6 & 0\\\\\n",
       "\t 2008 & 8 & 11 & 2033 & -2 &  -5 & 0\\\\\n",
       "\t 2008 & 5 &  3 & 1936 &  6 &   5 & 0\\\\\n",
       "\t 2008 & 5 & 13 & 2332 & -8 & -25 & 0\\\\\n",
       "\t 2008 & 1 & 13 &  907 & -8 & -12 & 0\\\\\n",
       "\\end{tabular}\n"
      ],
      "text/markdown": [
       "\n",
       "A tibble: 6 × 7\n",
       "\n",
       "| Year &lt;dbl&gt; | Month &lt;dbl&gt; | DayofMonth &lt;dbl&gt; | DepTime &lt;dbl&gt; | DepDelay &lt;dbl&gt; | ArrDelay &lt;dbl&gt; | Cancelled &lt;dbl&gt; |\n",
       "|---|---|---|---|---|---|---|\n",
       "| 2008 | 9 | 21 | 1909 |  9 |   4 | 0 |\n",
       "| 2008 | 9 | 18 | 1440 | -5 |  -6 | 0 |\n",
       "| 2008 | 8 | 11 | 2033 | -2 |  -5 | 0 |\n",
       "| 2008 | 5 |  3 | 1936 |  6 |   5 | 0 |\n",
       "| 2008 | 5 | 13 | 2332 | -8 | -25 | 0 |\n",
       "| 2008 | 1 | 13 |  907 | -8 | -12 | 0 |\n",
       "\n"
      ],
      "text/plain": [
       "  Year Month DayofMonth DepTime DepDelay ArrDelay Cancelled\n",
       "1 2008 9     21         1909     9         4      0        \n",
       "2 2008 9     18         1440    -5        -6      0        \n",
       "3 2008 8     11         2033    -2        -5      0        \n",
       "4 2008 5      3         1936     6         5      0        \n",
       "5 2008 5     13         2332    -8       -25      0        \n",
       "6 2008 1     13          907    -8       -12      0        "
      ]
     },
     "metadata": {},
     "output_type": "display_data"
    }
   ],
   "source": [
    "str(novoDataset)\n",
    "head(novoDataset)"
   ]
  },
  {
   "cell_type": "markdown",
   "metadata": {},
   "source": [
    "Agora repare em mais uma cláusula utilizada com o *pipe*, veja que foi adicionara no final da linha uma nova instrução. Desta vez, a função *filter* foi incluída, e adicionado um predicado de comparação com o valor 9 na variável *Month*. Esta condição de filter fará com que o dado seja retornado apenas quando o mês for setembro. \n",
    "\n",
    "Seguindo a estrutura de como o *pipe* funciona, o filtro para o mês de setembro será executado somente após a seleção de variáveis já ter sido executada. Ou seja, executa a instrução que está do lado direito do *pipe* em cima do objeto que está do lado esquerdo."
   ]
  },
  {
   "cell_type": "code",
   "execution_count": 8,
   "metadata": {},
   "outputs": [
    {
     "name": "stdout",
     "output_type": "stream",
     "text": [
      "tibble [7,739 x 7] (S3: tbl_df/tbl/data.frame)\n",
      " $ Year      : num [1:7739] 2008 2008 2008 2008 2008 ...\n",
      " $ Month     : num [1:7739] 9 9 9 9 9 9 9 9 9 9 ...\n",
      " $ DayofMonth: num [1:7739] 21 18 17 19 11 2 12 15 12 10 ...\n",
      " $ DepTime   : num [1:7739] 1909 1440 1054 1742 1925 ...\n",
      " $ DepDelay  : num [1:7739] 9 -5 6 -3 -5 -5 -5 NA -6 33 ...\n",
      " $ ArrDelay  : num [1:7739] 4 -6 6 -16 11 -15 -10 NA 8 38 ...\n",
      " $ Cancelled : num [1:7739] 0 0 0 0 0 0 0 1 0 0 ...\n"
     ]
    }
   ],
   "source": [
    "novoDataset <- voos2008 %>% select(Year,Month,DayofMonth,DepTime,DepDelay,ArrDelay,Cancelled) %>% filter (Month == 9)\n",
    "str(novoDataset)"
   ]
  },
  {
   "cell_type": "markdown",
   "metadata": {},
   "source": [
    "Bom, agora que já sabemos como realizar operações de *pipe*, *select* e *filter* é hora de voltar para resolver o problema proposto. O objetivo principal é pensar em quais épocas são melhores para ter mais eficiência com os vôos, porém o problema pede três separações diferentes: Hora do dia, dia da semana, época do ano. Para nos facilitar vamos pensar em época do ano como o mês.\n",
    "\n",
    "Ao fazer a operação manual para calcular a média de atraso de um mês específico, pode-se filtrar o mês que se deseja e então calcular a média atraso de partida. A média é calculada com a função *mean*. Veja o codigo abaixo como seria uma forma de se fazer este calculo da média."
   ]
  },
  {
   "cell_type": "code",
   "execution_count": 9,
   "metadata": {},
   "outputs": [
    {
     "data": {
      "text/html": [
       "3.72875773942827"
      ],
      "text/latex": [
       "3.72875773942827"
      ],
      "text/markdown": [
       "3.72875773942827"
      ],
      "text/plain": [
       "[1] 3.728758"
      ]
     },
     "metadata": {},
     "output_type": "display_data"
    }
   ],
   "source": [
    "novoDataset <- voos2008 %>% select(Year,Month,DayofMonth,DepTime,DepDelay,ArrDelay,Cancelled) %>% filter (Month == 9)\n",
    "mean(novoDataset$DepDelay, na.rm = TRUE)"
   ]
  },
  {
   "cell_type": "markdown",
   "metadata": {},
   "source": [
    "Porém, o que nós buscamos é enteder a melhor época do ano para não ter os atrasos. Nós combinamos há pouco que trataríamos a época como meses, então vamos fazer esse calculo para todos os meses. Para isso, vamos inserir três novas funções no nosso estudo. A função *mutate* é capaz de criar uma nova variável a partir de alguma operação programada, a função *group_by* que agrupa os dados a partir das variáveis definidas, e a função *arrange* que ordena os dados de forma crescente a partir das variáveis informadas.\n",
    "\n",
    "Veja como fica uma possível forma de resolver o problema, utilizando as funções que aprendemos até agora:"
   ]
  },
  {
   "cell_type": "code",
   "execution_count": 10,
   "metadata": {},
   "outputs": [
    {
     "data": {
      "text/html": [
       "<table class=\"dataframe\">\n",
       "<caption>A grouped_df: 12 × 2</caption>\n",
       "<thead>\n",
       "\t<tr><th scope=col>Month</th><th scope=col>atrasoMedio</th></tr>\n",
       "\t<tr><th scope=col>&lt;dbl&gt;</th><th scope=col>&lt;dbl&gt;</th></tr>\n",
       "</thead>\n",
       "<tbody>\n",
       "\t<tr><td> 9</td><td> 3.728758</td></tr>\n",
       "\t<tr><td>10</td><td> 4.084229</td></tr>\n",
       "\t<tr><td>11</td><td> 5.606048</td></tr>\n",
       "\t<tr><td> 5</td><td> 7.768342</td></tr>\n",
       "\t<tr><td> 4</td><td> 8.237131</td></tr>\n",
       "\t<tr><td> 8</td><td>10.654034</td></tr>\n",
       "\t<tr><td> 1</td><td>11.328178</td></tr>\n",
       "\t<tr><td> 7</td><td>11.843637</td></tr>\n",
       "\t<tr><td> 3</td><td>12.263297</td></tr>\n",
       "\t<tr><td> 6</td><td>13.610787</td></tr>\n",
       "\t<tr><td> 2</td><td>13.692327</td></tr>\n",
       "\t<tr><td>12</td><td>17.940197</td></tr>\n",
       "</tbody>\n",
       "</table>\n"
      ],
      "text/latex": [
       "A grouped\\_df: 12 × 2\n",
       "\\begin{tabular}{ll}\n",
       " Month & atrasoMedio\\\\\n",
       " <dbl> & <dbl>\\\\\n",
       "\\hline\n",
       "\t  9 &  3.728758\\\\\n",
       "\t 10 &  4.084229\\\\\n",
       "\t 11 &  5.606048\\\\\n",
       "\t  5 &  7.768342\\\\\n",
       "\t  4 &  8.237131\\\\\n",
       "\t  8 & 10.654034\\\\\n",
       "\t  1 & 11.328178\\\\\n",
       "\t  7 & 11.843637\\\\\n",
       "\t  3 & 12.263297\\\\\n",
       "\t  6 & 13.610787\\\\\n",
       "\t  2 & 13.692327\\\\\n",
       "\t 12 & 17.940197\\\\\n",
       "\\end{tabular}\n"
      ],
      "text/markdown": [
       "\n",
       "A grouped_df: 12 × 2\n",
       "\n",
       "| Month &lt;dbl&gt; | atrasoMedio &lt;dbl&gt; |\n",
       "|---|---|\n",
       "|  9 |  3.728758 |\n",
       "| 10 |  4.084229 |\n",
       "| 11 |  5.606048 |\n",
       "|  5 |  7.768342 |\n",
       "|  4 |  8.237131 |\n",
       "|  8 | 10.654034 |\n",
       "|  1 | 11.328178 |\n",
       "|  7 | 11.843637 |\n",
       "|  3 | 12.263297 |\n",
       "|  6 | 13.610787 |\n",
       "|  2 | 13.692327 |\n",
       "| 12 | 17.940197 |\n",
       "\n"
      ],
      "text/plain": [
       "   Month atrasoMedio\n",
       "1   9     3.728758  \n",
       "2  10     4.084229  \n",
       "3  11     5.606048  \n",
       "4   5     7.768342  \n",
       "5   4     8.237131  \n",
       "6   8    10.654034  \n",
       "7   1    11.328178  \n",
       "8   7    11.843637  \n",
       "9   3    12.263297  \n",
       "10  6    13.610787  \n",
       "11  2    13.692327  \n",
       "12 12    17.940197  "
      ]
     },
     "metadata": {},
     "output_type": "display_data"
    }
   ],
   "source": [
    "voos2008 %>%\n",
    " select(Month,DepDelay) %>%\n",
    " group_by(Month) %>%\n",
    " mutate(atrasoMedio = mean(DepDelay, na.rm = TRUE)) %>%\n",
    " select(Month,atrasoMedio) %>%\n",
    " arrange(atrasoMedio, Month) %>%\n",
    " unique()"
   ]
  },
  {
   "cell_type": "code",
   "execution_count": null,
   "metadata": {},
   "outputs": [],
   "source": []
  }
 ],
 "metadata": {
  "kernelspec": {
   "display_name": "R",
   "language": "R",
   "name": "ir"
  },
  "language_info": {
   "codemirror_mode": "r",
   "file_extension": ".r",
   "mimetype": "text/x-r-source",
   "name": "R",
   "pygments_lexer": "r",
   "version": "4.1.0"
  }
 },
 "nbformat": 4,
 "nbformat_minor": 4
}
