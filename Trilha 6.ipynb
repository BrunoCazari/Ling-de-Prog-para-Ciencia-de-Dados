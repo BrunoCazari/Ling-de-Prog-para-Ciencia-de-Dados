{
 "cells": [
  {
   "cell_type": "markdown",
   "metadata": {},
   "source": [
    "# Trilha 6"
   ]
  },
  {
   "cell_type": "markdown",
   "metadata": {},
   "source": [
    "Para iniciar a trilha 6 deste componente curricular, iremos explorar alguns pacotes de manipulação de dados.\n",
    "\n",
    "O R tem muitas funções integradas, que são acessadas através do pacote base que já vem por padrão no motor da linguagem. Contudo, também podemos usar funções que são armazenadas em pacotes criados por outras pessoas.\n",
    "\n",
    "Para instalar você utiliza a função *install.packages()*. O processo de instalação faz com que o seu motor da linguagem vá até o repositório do [*Comprehensive R Archive Network* - **CRAN**](https://cran.r-project.org/) e faz o download para o local que está executando. Somente após fazer o download é possível utilizar as funções internas.\n",
    "\n",
    "Para usar as funções de um pacote, você primeiro precisa carregá-lo usando a função *library()*. Isso precisa ser feito todas as vezes que iniciar o seu projeto, porém uma vez carregado durante a execução, não precisa carregar novamente para usar as funções. Há uma convenção de boa prática que diz para fazer isso na parte superior de seu *jupyter notebook* para que seja fácil ver de quais pacotes seu código R utiliza.\n",
    "\n",
    "Para garantir que estamos utilizando a ultima versão do R no nosso computador, podemos forçar a atualização da versão do motor de processamento através de pacotes. "
   ]
  },
  {
   "cell_type": "markdown",
   "metadata": {},
   "source": [
    "O primeiro passo para atualizar o ambiente é instalar o pacote **installR** e depois carregá-lo. Para então ser feita a chamada da função *updateR* e seguir com o guia de instalação. "
   ]
  },
  {
   "cell_type": "code",
   "execution_count": null,
   "metadata": {},
   "outputs": [],
   "source": [
    "install.packages(\"installr\")\n",
    "library(installr)\n",
    "\n",
    "#updateR()\n",
    "\n",
    "version"
   ]
  },
  {
   "cell_type": "markdown",
   "metadata": {},
   "source": [
    "Em seguida é feita a intalação e atualização do pacote **DevTools**."
   ]
  },
  {
   "cell_type": "code",
   "execution_count": null,
   "metadata": {},
   "outputs": [],
   "source": [
    "install.packages('devtools')\n",
    "library(devtools)"
   ]
  },
  {
   "cell_type": "markdown",
   "metadata": {},
   "source": [
    "Depois da garantia de atualização do ambiente, vamos explorar algumas outras funções. Neste caso vamos usar um pacote bastante utilizado no mercado de trabalho para fazer manipulação de dados, chamado **tidyverse**. Este pacote permite carregar, modificar e plotar os dados.\n",
    "\n",
    "Veja abaixo o código que faz a instalação do pacote e depois faz o carregamento das suas funções para esta execução do ambiente."
   ]
  },
  {
   "cell_type": "code",
   "execution_count": null,
   "metadata": {},
   "outputs": [],
   "source": [
    "install.packages('tidyverse', dependencies=TRUE)\n",
    "library(tidyverse)"
   ]
  },
  {
   "cell_type": "markdown",
   "metadata": {},
   "source": [
    "Depois de instalado e carregado o pacote **tidyverse**, vamos testá-lo com o carregamento de um conjunto de dados com informações de aeroportos. Estes *datasets* são coletadas do site [Open Data - OurAirport](https://ourairports.com/data/), e também baixados para o repositório aqui do componente curricular. Quando você baixar todos os *jupyter notebook* para reproduzir os experimentos, estes *datasets* já estarão baixados."
   ]
  },
  {
   "cell_type": "code",
   "execution_count": null,
   "metadata": {},
   "outputs": [],
   "source": [
    "dados <- read_csv(\"datasets/airports.csv\")\n",
    "head(dados)"
   ]
  }
 ],
 "metadata": {
  "kernelspec": {
   "display_name": "R",
   "language": "R",
   "name": "ir"
  },
  "language_info": {
   "codemirror_mode": "r",
   "file_extension": ".r",
   "mimetype": "text/x-r-source",
   "name": "R",
   "pygments_lexer": "r",
   "version": "4.1.0"
  }
 },
 "nbformat": 4,
 "nbformat_minor": 4
}
